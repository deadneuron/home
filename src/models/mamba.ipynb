{
 "cells": [
  {
   "cell_type": "markdown",
   "id": "80bd94a8-a9e6-431a-b8bf-ef0f68136a7b",
   "metadata": {},
   "source": [
    "#+NAME: Mamba\n",
    "#+YEAR: 2023\n",
    "#+AUTHORS: Albert Gu, Tri Dao\n",
    "#+CATEGORIES: Recurrent State Space\n",
    "#+DESCRIPTION: A fully recurrent selective state space model that maps input sequences through an implicit latent space. Information is selectively propagated or forgotten along the sequence conditioned on input tokens. This approach enables content-based reasoning and linear time sequence modeling over giant context lengths. \n",
    "#+PAPER: https://arxiv.org/abs/2312.00752\n",
    "#+IMAGE:"
   ]
  }
 ],
 "metadata": {
  "kernelspec": {
   "display_name": "Python 3 (ipykernel)",
   "language": "python",
   "name": "python3"
  },
  "language_info": {
   "codemirror_mode": {
    "name": "ipython",
    "version": 3
   },
   "file_extension": ".py",
   "mimetype": "text/x-python",
   "name": "python",
   "nbconvert_exporter": "python",
   "pygments_lexer": "ipython3",
   "version": "3.10.12"
  }
 },
 "nbformat": 4,
 "nbformat_minor": 5
}
