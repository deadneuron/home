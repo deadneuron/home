{
 "cells": [
  {
   "cell_type": "markdown",
   "metadata": {
    "tags": [
     "metadata"
    ]
   },
   "source": [
    "#+NAME: Perceptron\n",
    "#+YEAR: 1958\n",
    "#+AUTHORS: Frank Rosenblatt\n",
    "#+CATEGORIES: Fully Connected\n",
    "#+DESCRIPTION: Neural network research begins with the first implementation of an artificial neuron called the perceptron. The theory for the perceptron was introduced in 1943 by McCulloch and Pitts as a binary threshold classifier. The first implementation was actually intended to be a machine rather than a program. Photocells were interconnected with potentiometers that were updated during learning with electric motors.\n",
    "#+PAPER: /static/perceptron.pdf\n",
    "#+IMAGE:"
   ]
  },
  {
   "cell_type": "markdown",
   "metadata": {},
   "source": [
    "# Overview\n",
    "\n",
    "The origins of artificial neural network research can be traced back to the work of Warren McCulloch and Walter Pitts in 1943, who proposed a mathematical model of a biological neuron based on the all-or-nothing character of nervous activity. This simplified computational model casts the neuron as a binary threshold unit that computes a weighted sum of its inputs to produce an output.\n",
    "\n",
    "$$\n",
    "f(x) = \\begin{cases}\n",
    "1,  &\\text{if} \\ \\displaystyle\\sum_{i=0}^n w_i x_i + b > 1, \\\\\n",
    "0, &\\text{otherwise}\n",
    "\\end{cases}\n",
    "$$"
   ]
  },
  {
   "cell_type": "markdown",
   "metadata": {},
   "source": [
    "The transition to multilayer perceptrons greatly expanded the learning capabilities of neural networks. Networks would now be organized into several successive layers, each consisting of multiple neurons with weighted connections to neurons in adjacent layers."
   ]
  },
  {
   "cell_type": "code",
   "execution_count": 3,
   "metadata": {},
   "outputs": [],
   "source": [
    "import torch\n",
    "\n",
    "class MLP(torch.nn.Module):\n",
    "    def __init__(self):\n",
    "        super(MLP, self).__init__() \n",
    "    \n",
    "    def forward(self, x):\n",
    "        pass"
   ]
  }
 ],
 "metadata": {
  "kernelspec": {
   "display_name": "Python 3 (ipykernel)",
   "language": "python",
   "name": "python3"
  },
  "language_info": {
   "codemirror_mode": {
    "name": "ipython",
    "version": 3
   },
   "file_extension": ".py",
   "mimetype": "text/x-python",
   "name": "python",
   "nbconvert_exporter": "python",
   "pygments_lexer": "ipython3",
   "version": "3.6.9"
  }
 },
 "nbformat": 4,
 "nbformat_minor": 4
}
