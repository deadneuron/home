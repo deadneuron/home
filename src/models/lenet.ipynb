{
 "cells": [
  {
   "cell_type": "markdown",
   "metadata": {
    "tags": [
     "metadata"
    ]
   },
   "source": [
    "#+NAME: LeNet\n",
    "#+YEAR: 1985\n",
    "#+AUTHORS: Yann LeCun, Bernhard Boser, John Denker, Donnie Henderson, Richard Howard, Wayne Hubbard, Lawrence Jackel\n",
    "#+CATEGORIES: Convolution\n",
    "#+DESCRIPTION: LeNet is the earliest introduction of the modern convolutional architecture. It contains three alternating convolutional and pooling layers followed by two fully connected layers. This model was introduced alongside the back propagation algorithm which produced incredible results at the time for image classification.\n",
    "#+PAPER: /static/boltzmann.pdf\n",
    "#+IMAGE:"
   ]
  },
  {
   "cell_type": "markdown",
   "metadata": {},
   "source": [
    "# Overview\n",
    "\n",
    "LeNet is the earliest introduction of the modern convolutional architecture. It contains two alternating convolutional and pooling layers followed by three fully connected layers. This model was introduced alongside the back propagation algorithm which produced incredible results at the time for image classification."
   ]
  },
  {
   "cell_type": "code",
   "execution_count": null,
   "metadata": {
    "scrolled": true
   },
   "outputs": [],
   "source": [
    "use burn::{\n",
    "    config::Config,\n",
    "    module::Module,\n",
    "    nn::{\n",
    "        conv::{Conv2d, Conv2dConfig},\n",
    "        pool::{AdaptiveAvgPool2d, AdaptiveAvgPool2dConfig},\n",
    "        Linear, LinearConfig, ReLU,\n",
    "    },\n",
    "    tensor::{backend::Backend, Tensor},\n",
    "};\n",
    "\n",
    "#[derive(Module, Debug)]\n",
    "pub struct LeNet<B: Backend> {\n",
    "    conv1: Conv2d<B>,\n",
    "    conv2: Conv2d<B>,\n",
    "    pool1: AdaptiveAvgPool2d,\n",
    "    pool2: AdaptiveAvgPool2d,\n",
    "    linear1: Linear<B>,\n",
    "    linear2: Linear<B>,\n",
    "    linear3: Linear<B>,\n",
    "    activation: ReLU,\n",
    "}\n",
    "\n",
    "#[derive(Config, Debug)]\n",
    "pub struct LeNetConfig {\n",
    "    #[config(default = \"10\")]\n",
    "    num_classes: usize,\n",
    "}\n",
    "\n",
    "impl LeNetConfig {\n",
    "    pub fn init<B: Backend>(&self, device: &B::Device) -> LeNet<B> {\n",
    "        LeNet {\n",
    "            conv1: Conv2dConfig::new([1, 6], [5, 5]).init(device),\n",
    "            conv2: Conv2dConfig::new([6, 16],[5, 5],).init(device),\n",
    "            pool1: AdaptiveAvgPool2dConfig::new([14, 14]).init(),\n",
    "            pool2: AdaptiveAvgPool2dConfig::new([5, 5]).init(),\n",
    "            linear1: LinearConfig::new(16*5*5, 120).init(device),\n",
    "            linear2: LinearConfig::new(120, 84).init(device),\n",
    "            linear3: LinearConfig::new(84, self.num_classes).init(device),\n",
    "            activation: ReLU::new(),\n",
    "        }\n",
    "    }\n",
    "}\n",
    "\n",
    "impl<B: Backend> LeNet<B> {\n",
    "    pub fn forward(&self, x: Tensor<B, 4>) -> Tensor<B, 2> {\n",
    "        let x = self.conv1.forward(x);\n",
    "        let x = self.activation.forward(x);\n",
    "        let x = self.pool1.forward(x);\n",
    "\n",
    "        let x = self.conv2.forward(x);\n",
    "        let x = self.activation.forward(x);\n",
    "        let x = self.pool2.forward(x);\n",
    "\n",
    "        let [batch_size, channels, height, width] = x.dims();\n",
    "        let x = x.reshape([batch_size, channels * height * width]);\n",
    "\n",
    "        let x = self.linear1.forward(x);\n",
    "        let x = self.activation.forward(x);\n",
    "\n",
    "        let x = self.linear2.forward(x);\n",
    "        let x = self.activation.forward(x);\n",
    "\n",
    "        self.linear3.forward(x)\n",
    "    }\n",
    "}\n"
   ]
  }
 ],
 "metadata": {
  "kernelspec": {
   "display_name": "Rust",
   "language": "rust",
   "name": "rust"
  },
  "language_info": {
   "codemirror_mode": "rust",
   "file_extension": ".rs",
   "mimetype": "text/rust",
   "name": "Rust",
   "pygment_lexer": "rust",
   "version": ""
  }
 },
 "nbformat": 4,
 "nbformat_minor": 4
}
