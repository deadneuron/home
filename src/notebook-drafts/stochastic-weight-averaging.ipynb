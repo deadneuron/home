{
 "cells": [
  {
   "cell_type": "markdown",
   "id": "f1bbc174-0ce5-4d8e-a847-e284b0f6e740",
   "metadata": {},
   "source": [
    "#+TITLE: Stochastic Weight Averaging\n",
    "#+CATEGORIES: optimization\n",
    "#+DESCRIPTION: ...\n",
    "#+DATE: 2020-01-02\n",
    "#+HERO: /static/space-bg.png"
   ]
  }
 ],
 "metadata": {
  "kernelspec": {
   "display_name": "Python 3 (ipykernel)",
   "language": "python",
   "name": "python3"
  },
  "language_info": {
   "codemirror_mode": {
    "name": "ipython",
    "version": 3
   },
   "file_extension": ".py",
   "mimetype": "text/x-python",
   "name": "python",
   "nbconvert_exporter": "python",
   "pygments_lexer": "ipython3",
   "version": "3.10.12"
  }
 },
 "nbformat": 4,
 "nbformat_minor": 5
}
