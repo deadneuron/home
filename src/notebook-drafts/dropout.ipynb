{
 "cells": [
  {
   "cell_type": "markdown",
   "metadata": {
    "tags": [
     "metadata"
    ]
   },
   "source": [
    "#+TITLE: Dropout\n",
    "#+CATEGORIES: regularization\n",
    "#+DESCRIPTION: Dropout is a regularization technique used in neural networks to prevent overfitting, where subsets of neurons are randomly deactivated for each forward pass during the training phase. This randomness forces the network to learn more robust features that are useful in conjunction with various different random subsets of the other neurons.\n",
    "#+DATE: 2020-01-02\n",
    "#+HERO: /static/space-bg.png"
   ]
  },
  {
   "cell_type": "markdown",
   "metadata": {},
   "source": [
    "# Introduction\n",
    "\n",
    "Dropout is a regularization technique used in neural networks to prevent overfitting, where subsets of neurons are randomly deactivated for each forward pass during the training phase. This randomness forces the network to learn more robust features that are useful in conjunction with various different random subsets of the other neurons."
   ]
  },
  {
   "cell_type": "markdown",
   "metadata": {},
   "source": [
    "# Setup"
   ]
  },
  {
   "cell_type": "code",
   "execution_count": 2,
   "metadata": {},
   "outputs": [],
   "source": [
    "%matplotlib inline\n",
    "\n",
    "import numpy as np\n",
    "import matplotlib.pyplot as plt\n",
    "import torch\n",
    "import torchvision\n",
    "import warnings\n",
    "\n",
    "plt.style.use('./deadneuron.mplstyle')"
   ]
  }
 ],
 "metadata": {
  "kernelspec": {
   "display_name": "Python 3 (ipykernel)",
   "language": "python",
   "name": "python3"
  },
  "language_info": {
   "codemirror_mode": {
    "name": "ipython",
    "version": 3
   },
   "file_extension": ".py",
   "mimetype": "text/x-python",
   "name": "python",
   "nbconvert_exporter": "python",
   "pygments_lexer": "ipython3",
   "version": "3.6.9"
  }
 },
 "nbformat": 4,
 "nbformat_minor": 4
}
