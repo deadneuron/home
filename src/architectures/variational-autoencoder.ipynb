{
 "cells": [
  {
   "cell_type": "markdown",
   "id": "29118688-4091-4cdc-92a7-8e2a2db6f1a5",
   "metadata": {
    "editable": true,
    "slideshow": {
     "slide_type": ""
    },
    "tags": [
     "metadata"
    ]
   },
   "source": [
    "#+NAME: Variational Autoencoder\n",
    "#+YEAR: 2013\n",
    "#+AUTHORS: Diederik P Kingma, Max Welling\n",
    "#+CATEGORIES: Generative\n",
    "#+DESCRIPTION: A probabilistic generative model consisting of an encoder that maps input data to a latent space that corresponds to the parameters of a variational distribution and a decoder that maps the latent representations back to the input space.\n",
    "#+PAPER: https://arxiv.org/abs/1312.6114\n",
    "#+IMAGE: /static/variational-autoencoder.png"
   ]
  }
 ],
 "metadata": {
  "kernelspec": {
   "display_name": "Python 3 (ipykernel)",
   "language": "python",
   "name": "python3"
  },
  "language_info": {
   "codemirror_mode": {
    "name": "ipython",
    "version": 3
   },
   "file_extension": ".py",
   "mimetype": "text/x-python",
   "name": "python",
   "nbconvert_exporter": "python",
   "pygments_lexer": "ipython3",
   "version": "3.10.12"
  }
 },
 "nbformat": 4,
 "nbformat_minor": 5
}
