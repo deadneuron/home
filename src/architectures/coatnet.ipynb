{
 "cells": [
  {
   "cell_type": "markdown",
   "metadata": {
    "tags": [
     "metadata"
    ]
   },
   "source": [
    "#+NAME: CoAtNet\n",
    "#+YEAR: 2021\n",
    "#+AUTHORS: Zihang Dai, Hanxiao Liu, Quoc V. Le, Mingxing Tan\n",
    "#+CATEGORIES: Attention Convolution\n",
    "#+DESCRIPTION: CoAtNets feature the unification of depthwise convolutions and self attention via relative attention in this hybrid network structure. Convolution layers and attention layers are vertically stacked in a principled way that proves to be effective for improving generalization, capacity, and efficiency.\n",
    "#+PAPER: https://arxiv.org/abs/2106.04803\n",
    "#+IMAGE:"
   ]
  }
 ],
 "metadata": {
  "kernelspec": {
   "display_name": "Python 3 (ipykernel)",
   "language": "python",
   "name": "python3"
  },
  "language_info": {
   "codemirror_mode": {
    "name": "ipython",
    "version": 3
   },
   "file_extension": ".py",
   "mimetype": "text/x-python",
   "name": "python",
   "nbconvert_exporter": "python",
   "pygments_lexer": "ipython3",
   "version": "3.10.12"
  }
 },
 "nbformat": 4,
 "nbformat_minor": 4
}
