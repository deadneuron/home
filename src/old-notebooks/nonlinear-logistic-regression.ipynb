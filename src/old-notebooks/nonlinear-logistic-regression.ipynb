{
 "cells": [
  {
   "cell_type": "code",
   "execution_count": 2,
   "metadata": {},
   "outputs": [],
   "source": [
    "import numpy as np\n",
    "import matplotlib.pyplot as plt\n",
    "import warnings\n",
    "%matplotlib inline\n",
    "warnings.filterwarnings('ignore')\n",
    "warnings.simplefilter('ignore')\n",
    "plt.style.use('seaborn-whitegrid')"
   ]
  },
  {
   "cell_type": "markdown",
   "metadata": {},
   "source": [
    "# Classification with Nonlinear Logistic Regression\n",
    "\n",
    "Require function values to be between 0 and 1 and require them to sum to 1 for every value of x.\n",
    "\n",
    "$$\n",
    "p(C = k|x) = \\frac{f(x; w_k)}{\\sum_{m=1}^K f(x; w_m)}\n",
    "$$\n",
    "\n",
    "Maximize the likelihood of the data $\\{x_1, x_2, ..., x_N\\}$ with indicator variables:\n",
    "\n",
    "$$\n",
    "  \\begin{bmatrix}\n",
    "    t_{1,1} & t_{1,2} & \\ldots & t_{1,K}\\\\\n",
    "    t_{2,1} & t_{2,2} & \\ldots & t_{2,K}\\\\\n",
    "    \\vdots\\\\\n",
    "    t_{N,1} & t_{N,2} & \\ldots & t_{N,K}\n",
    "  \\end{bmatrix}\n",
    "$$\n",
    "\n",
    "where each value of $t_{n,k}$ is either a 1 or 0 and each row of the matrix contains only a single 1.\n",
    "\n",
    "The liklihood is the product of all $p(C = class|x_n)$ values for sample $n$.\n",
    "\n",
    "$$\n",
    "L(\\beta) = \\prod_{n=1}^N \\prod_{k=1}^K p(C = k|x_n)^{t_{n,k}}\n",
    "$$"
   ]
  }
 ],
 "metadata": {
  "kernelspec": {
   "display_name": "Python 3.6.9 64-bit",
   "language": "python",
   "name": "python3"
  },
  "language_info": {
   "codemirror_mode": {
    "name": "ipython",
    "version": 3
   },
   "file_extension": ".py",
   "mimetype": "text/x-python",
   "name": "python",
   "nbconvert_exporter": "python",
   "pygments_lexer": "ipython3",
   "version": "3.6.9"
  },
  "orig_nbformat": 4,
  "vscode": {
   "interpreter": {
    "hash": "31f2aee4e71d21fbe5cf8b01ff0e069b9275f58929596ceb00d14d90e3e16cd6"
   }
  }
 },
 "nbformat": 4,
 "nbformat_minor": 2
}
