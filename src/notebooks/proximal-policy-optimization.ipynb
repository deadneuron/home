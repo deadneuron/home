{
 "cells": [
  {
   "cell_type": "markdown",
   "metadata": {
    "tags": [
     "metadata"
    ]
   },
   "source": [
    "#+TITLE: Proximal Policy Optimization\n",
    "#+CATEGORIES: optimization reinforcement\n",
    "#+DESCRIPTION: An computationally efficient improvement on trust regions for policy optimization.\n",
    "#+AUTHORS: John Schulman, Filip Wolski, Prafulla Dhariwal, Alec Radford, Oleg Klimov  \n",
    "#+SOURCE: https://arxiv.org/abs/1707.06347\n",
    "#+DATE: 2024-01-20\n",
    "#+HERO: /static/space-bg.png"
   ]
  },
  {
   "cell_type": "markdown",
   "metadata": {},
   "source": [
    "# Proximal Policy Optimization\n",
    "\n",
    "..."
   ]
  }
 ],
 "metadata": {
  "kernelspec": {
   "display_name": "Python 3 (ipykernel)",
   "language": "python",
   "name": "python3"
  },
  "language_info": {
   "codemirror_mode": {
    "name": "ipython",
    "version": 3
   },
   "file_extension": ".py",
   "mimetype": "text/x-python",
   "name": "python",
   "nbconvert_exporter": "python",
   "pygments_lexer": "ipython3",
   "version": "3.6.9"
  }
 },
 "nbformat": 4,
 "nbformat_minor": 4
}
