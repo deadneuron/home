{
 "cells": [
  {
   "cell_type": "markdown",
   "metadata": {
    "tags": [
     "metadata"
    ]
   },
   "source": [
    "#+TITLE: Proximal Policy Optimization\n",
    "#+CATEGORIES: optimization reinforcement\n",
    "#+TAGS: reinforcement\n",
    "#+DESCRIPTION: A computationally efficient on-policy reinforcement learning algorithm.\n",
    "#+AUTHORS: John Schulman, Filip Wolski, Prafulla Dhariwal, Alec Radford, Oleg Klimov  \n",
    "#+SOURCE: https://arxiv.org/abs/1707.06347\n",
    "#+DATE: 2024-01-20"
   ]
  },
  {
   "cell_type": "markdown",
   "metadata": {},
   "source": [
    "# Proximal Policy Optimization\n",
    "\n",
    "A family of policy gradient methods that alternate between sampling data through interaction with the environment and optimizing a trust region inspired surrogate objective function.\n",
    "\n",
    "There are two primary variants of Proximal Policy Optimization, one in which large KL-divergences are penalized in the objective function and one in which the objective function is clipped to remove incentives for the new policy to get too far from the old.\n",
    "\n",
    "The clipped surrogate objective to be optimized, governed by a small hyperparameter $\\epsilon$, is given as:\n",
    "\n",
    "$$\n",
    "L(\\theta, \\theta_{old}) = \\mathbb{E} \\left[ min \\left( \\frac{\\pi_{\\theta}(a_t|s_t)}{\\pi_{\\theta_{old}}(a_t|s_t)} \\hat{A_t}, clip \\left( \\frac{\\pi_{\\theta}(a_t|s_t)}{\\pi_{\\theta_{old}}(a_t|s_t)}, 1 - \\epsilon, 1 + \\epsilon \\right) \\hat{A_t} \\right) \\right]\n",
    "$$\n",
    "\n",
    "The adptive penalty version incorporates the KL divergence directly into the objective function.\n",
    "\n",
    "$$\n",
    "L(\\theta, \\theta_{old}) =  \\mathbb{E} \\left[ \\frac{\\pi_{\\theta}(a_t|s_t)}{\\pi_{\\theta_{old}}(a_t|s_t)} \\hat{A_t} - \\beta KL(\\pi_{\\theta_{old}}(\\cdot | s_t), \\pi_{\\theta}(\\cdot | s_t)) \\right]\n",
    "$$\n",
    "\n",
    "The degree of penalty, $\\beta$, to assign to the KL term is adaptively adjusted according to:\n",
    "\n",
    "$$\n",
    "\\beta \\leftarrow\n",
    "\\begin{cases}\n",
    "\\beta \\div 2 \\ \\ if \\ \\ \\mathbb{E}[KL(\\pi_{\\theta_{old}}(\\cdot | s_t), \\pi_{\\theta}(\\cdot | s_t))] < target \\div 1.5 \\\\\n",
    "\\beta \\times 2 \\ \\ if \\ \\ \\mathbb{E}[KL(\\pi_{\\theta_{old}}(\\cdot | s_t), \\pi_{\\theta}(\\cdot | s_t))] > target \\times 1.5\n",
    "\\end{cases}\n",
    "$$"
   ]
  }
 ],
 "metadata": {
  "kernelspec": {
   "display_name": "Python 3 (ipykernel)",
   "language": "python",
   "name": "python3"
  },
  "language_info": {
   "codemirror_mode": {
    "name": "ipython",
    "version": 3
   },
   "file_extension": ".py",
   "mimetype": "text/x-python",
   "name": "python",
   "nbconvert_exporter": "python",
   "pygments_lexer": "ipython3",
   "version": "3.10.12"
  }
 },
 "nbformat": 4,
 "nbformat_minor": 4
}
