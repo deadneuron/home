{
 "cells": [
  {
   "cell_type": "markdown",
   "id": "c4a96d1e-670d-441a-aa75-4516519afc4b",
   "metadata": {
    "editable": true,
    "slideshow": {
     "slide_type": ""
    },
    "tags": [
     "metadata"
    ]
   },
   "source": [
    "#+TITLE: Gradient Boosting\n",
    "#+CATEGORIES: optimization\n",
    "#+TAGS: ensemble\n",
    "#+DESCRIPTION: Ensembles where new members are trained to correct previous mistakes.\n",
    "#+AUTHORS: Leo Breiman\n",
    "#+SOURCE: https://www.stat.berkeley.edu/~breiman/arcing-the-edge.pdf\n",
    "#+DATE: 2024-03-19"
   ]
  },
  {
   "cell_type": "markdown",
   "id": "063266a2-6686-448e-b20b-a4e755eec799",
   "metadata": {},
   "source": [
    "# Gradient Boosting\n",
    "\n",
    "Gradient Boosting is an approach in ensemble learning where models are trained in succession with adaptively weighted training sets to correct the errors of previous models. At its core, gradient boosting applies the principle of gradient descent to the functional space of predictive models.\n",
    "\n",
    "Boosting algorithms typically use large populations of weak learners like shallow decision trees. Many variations of boosting have been introduced with different approaches to reweighting training data, with AdaBoost perhaps being the most popular. Consider a dataset $\\{(x_1, y_1), ..., (x_n, y_n)\\}$ where a set of weak classifiers $\\{f_1, ..., f_m\\}$ are combined to output a classification label $y_n \\in \\{1, ..., C\\}$ for each item. The boosted ensemble makes predictions using a linear combination of the individual classifiers weighted by $\\alpha_i$.\n",
    "\n",
    "$$\n",
    "F(x_i) = \\alpha_1 f_1(x_i) + ... + \\alpha_n f_m(x_i)\n",
    "$$\n",
    "\n",
    "Observation weights are initialized to $w_i = \\frac{1}{n}$ for each sample in the training set. Then, for each classifier in the ensemble of size $m$, a classifier $f_m$ is fit to the training data using the training set weights where the error is computed:\n",
    "\n",
    "$$\n",
    "err(f_m) = \\frac{\\sum_{i=1}^n w_i \\mathbb{I} (c_i \\neq f_m(x_i))}{\\sum_{i=1}^n w_i}\n",
    "$$\n",
    "\n",
    "The classifier weight $\\alpha_m$ is then computed:\n",
    "\n",
    "$$\n",
    "\\alpha_m = log \\frac{1 - err(f_m)}{err(f_m)} + log(C - 1)\n",
    "$$\n",
    "\n",
    "The observation weights are then updated to assign more importance to samples the previous classifier misclassified and then re-normalized such that the observation weights $\\sum_{i=1}^n w_i = 1$.\n",
    "\n",
    "$$\n",
    "w_i \\leftarrow w_i \\cdot exp (\\alpha_m \\cdot \\mathbb{I} (y_i \\neq f_m(x_i)))\n",
    "$$"
   ]
  }
 ],
 "metadata": {
  "kernelspec": {
   "display_name": "Python 3 (ipykernel)",
   "language": "python",
   "name": "python3"
  },
  "language_info": {
   "codemirror_mode": {
    "name": "ipython",
    "version": 3
   },
   "file_extension": ".py",
   "mimetype": "text/x-python",
   "name": "python",
   "nbconvert_exporter": "python",
   "pygments_lexer": "ipython3",
   "version": "3.10.12"
  }
 },
 "nbformat": 4,
 "nbformat_minor": 5
}
