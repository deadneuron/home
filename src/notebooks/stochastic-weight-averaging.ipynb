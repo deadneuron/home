{
 "cells": [
  {
   "cell_type": "markdown",
   "id": "5620978a-b43d-4a46-83b3-a55751da3b4a",
   "metadata": {
    "editable": true,
    "slideshow": {
     "slide_type": ""
    },
    "tags": [
     "metadata"
    ]
   },
   "source": [
    "#+TITLE: Stochastic Weight Averaging\n",
    "#+CATEGORIES: optimization\n",
    "#+DESCRIPTION: An optimization trick for the final phases of training with SGD.\n",
    "#+AUTHORS: Pavel Izmailov, Dmitrii Podoprikhin, Timur Garipov, Dmitry Vetrov, Andrew Gordon Wilson  \n",
    "#+SOURCE: https://arxiv.org/abs/1803.05407\n",
    "#+DATE: 2024-01-14\n",
    "#+HERO: /static/space-bg.png"
   ]
  },
  {
   "cell_type": "markdown",
   "id": "701a62f9-f0d1-4a3f-99b0-c679143d9d87",
   "metadata": {
    "editable": true,
    "slideshow": {
     "slide_type": ""
    },
    "tags": []
   },
   "source": [
    "# Stochastic Weight Averaging\n",
    "\n",
    "SWA is based on averaging the samples proposed by SGD using a learning rate schedule that allows exploration of the region of weight space corresponding to high-performing networks.\n",
    "\n",
    "### Problems Addressed\n",
    "\n",
    "accelerate the convergence, sta-\n",
    "bility, and accuracy of models trained with SGD.\n",
    "\n",
    "### Key Points\n",
    "\n",
    "SWA uses a cyclical learning rate schedule so that SGD continues to explore the set of high-performing networks instead of simply converging to a single solution.\n",
    "\n",
    "https://pytorch.org/assets/images/swa/figure3-highres.png\n",
    "\n",
    "The weights of the networks traversed by SGD are averaged."
   ]
  }
 ],
 "metadata": {
  "kernelspec": {
   "display_name": "Python 3 (ipykernel)",
   "language": "python",
   "name": "python3"
  },
  "language_info": {
   "codemirror_mode": {
    "name": "ipython",
    "version": 3
   },
   "file_extension": ".py",
   "mimetype": "text/x-python",
   "name": "python",
   "nbconvert_exporter": "python",
   "pygments_lexer": "ipython3",
   "version": "3.10.12"
  }
 },
 "nbformat": 4,
 "nbformat_minor": 5
}
