{
 "cells": [
  {
   "cell_type": "markdown",
   "metadata": {
    "tags": [
     "metadata"
    ]
   },
   "source": [
    "#+TITLE: Natural Evolution Strategies\n",
    "#+CATEGORIES: neuroevolution\n",
    "#+DESCRIPTION: ...\n",
    "#+AUTHORS: Daan Wierstra, Tom Schaul, Tobias Glasmachers, Yi Sun, Jürgen Schmidhuber\n",
    "#+SOURCE: https://arxiv.org/abs/1106.4487\n",
    "#+DATE: 2024-01-19\n",
    "#+HERO: /static/space-bg.png"
   ]
  },
  {
   "cell_type": "markdown",
   "metadata": {},
   "source": [
    "# Natural Evolution Strategies\n",
    "\n",
    "A family of numerical optimization algorithms for black-box problems which iteratively update a search distribution by using an estimated gradient on its distribution parameters.\n",
    "\n",
    "A parameterized search distribution is used to produce a batch of search points.\n",
    "The fitness function is evaluated at each search point.\n",
    "A search gradient is estimated using the parameters of the search points with respect to the expected fitness.\n",
    "A gradient ascent step is taken along the natural gradient, which is a second order method that renormalizes the update with respect to uncertainty (prevents oscillations, premature convergence, and undesirable local effects)."
   ]
  }
 ],
 "metadata": {
  "kernelspec": {
   "display_name": "Python 3 (ipykernel)",
   "language": "python",
   "name": "python3"
  },
  "language_info": {
   "codemirror_mode": {
    "name": "ipython",
    "version": 3
   },
   "file_extension": ".py",
   "mimetype": "text/x-python",
   "name": "python",
   "nbconvert_exporter": "python",
   "pygments_lexer": "ipython3",
   "version": "3.6.9"
  }
 },
 "nbformat": 4,
 "nbformat_minor": 4
}
