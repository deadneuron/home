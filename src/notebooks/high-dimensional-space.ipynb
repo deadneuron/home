{
 "cells": [
  {
   "cell_type": "code",
   "execution_count": 39,
   "metadata": {},
   "outputs": [],
   "source": [
    "import numpy as np\n",
    "import matplotlib.pyplot as plt\n",
    "import warnings\n",
    "%matplotlib inline\n",
    "warnings.filterwarnings('ignore')\n",
    "warnings.simplefilter('ignore')\n",
    "plt.style.use('seaborn-whitegrid')"
   ]
  },
  {
   "cell_type": "markdown",
   "metadata": {},
   "source": [
    "# A Story of High-Dimensional Space\n",
    "\n",
    "In a high-dimensional space, most of the points lie on the surface of the hypercube shell.\n",
    "\n",
    "Consider the volume of the hypercube in $d$-dimensional space with each side of the hypercube being of length 1.\n",
    "\n",
    "$$\n",
    "1 \\cdot 1 \\cdot 1 \\cdot ... \\cdot 1 = 1^d  \n",
    "$$\n",
    "\n",
    "Now look at the volume of the interior of this hypercube. Define the interior of the space from 0.01 to 0.99 along each dimension. This would be:\n",
    "\n",
    "$$\n",
    "0.98 \\cdot 0.98 \\cdot 0.98 \\cdot ... \\cdot 0.98 = 0.98^d\n",
    "$$"
   ]
  },
  {
   "cell_type": "code",
   "execution_count": 1,
   "metadata": {},
   "outputs": [
    {
     "data": {
      "text/plain": [
       "0.9603999999999999"
      ]
     },
     "execution_count": 1,
     "metadata": {},
     "output_type": "execute_result"
    }
   ],
   "source": [
    "0.98**2"
   ]
  },
  {
   "cell_type": "code",
   "execution_count": 3,
   "metadata": {},
   "outputs": [
    {
     "name": "stdout",
     "output_type": "stream",
     "text": [
      "Total volume: 1\n",
      "Interior volume: 0.9603999999999999\n"
     ]
    }
   ],
   "source": [
    "d = 2\n",
    "print(f'Total volume: {1**d}')\n",
    "print(f'Interior volume: {0.98**d}')"
   ]
  },
  {
   "cell_type": "markdown",
   "metadata": {},
   "source": [
    "How about 10 or 50 dimensions?"
   ]
  },
  {
   "cell_type": "code",
   "execution_count": 4,
   "metadata": {},
   "outputs": [
    {
     "name": "stdout",
     "output_type": "stream",
     "text": [
      "Total volume: 1\n",
      "Interior volume: 0.8170728068875467\n",
      "Total volume: 1\n",
      "Interior volume: 0.36416968008711675\n"
     ]
    }
   ],
   "source": [
    "d = 10\n",
    "print(f'Total volume: {1**d}')\n",
    "print(f'Interior volume: {0.98**d}')\n",
    "\n",
    "d = 50\n",
    "print(f'Total volume: {1**d}')\n",
    "print(f'Interior volume: {0.98**d}')"
   ]
  },
  {
   "cell_type": "markdown",
   "metadata": {},
   "source": [
    "Now lets plot the volume of all 1000 dimensions."
   ]
  },
  {
   "cell_type": "code",
   "execution_count": 36,
   "metadata": {},
   "outputs": [],
   "source": [
    "def interior_volume(s=0.98, d=1000):\n",
    "    return s**d"
   ]
  },
  {
   "cell_type": "code",
   "execution_count": 37,
   "metadata": {},
   "outputs": [
    {
     "data": {
      "text/plain": [
       "Text(0, 0.5, 'interior volume')"
      ]
     },
     "execution_count": 37,
     "metadata": {},
     "output_type": "execute_result"
    },
    {
     "data": {
      "image/png": "[encoded data removed]",
      "text/plain": [
       "<Figure size 432x288 with 1 Axes>"
      ]
     },
     "metadata": {},
     "output_type": "display_data"
    }
   ],
   "source": [
    "dims = np.arange(1, 1000, 1)\n",
    "plt.plot(dims, interior_volume(0.98, dims))\n",
    "plt.xlabel('dimensions')\n",
    "plt.ylabel('interior volume')"
   ]
  },
  {
   "cell_type": "markdown",
   "metadata": {},
   "source": [
    "The limit for the interior volume of a high dimensional space is 0."
   ]
  },
  {
   "cell_type": "code",
   "execution_count": 38,
   "metadata": {},
   "outputs": [
    {
     "data": {
      "text/plain": [
       "Text(0, 0.5, 'interior volume')"
      ]
     },
     "execution_count": 38,
     "metadata": {},
     "output_type": "execute_result"
    },
    {
     "data": {
      "image/png": "[encoded data removed]",
      "text/plain": [
       "<Figure size 432x288 with 1 Axes>"
      ]
     },
     "metadata": {},
     "output_type": "display_data"
    }
   ],
   "source": [
    "dims = np.arange(1, 10000, 1)\n",
    "plt.plot(dims, interior_volume(0.999, dims))\n",
    "plt.xlabel('dimensions')\n",
    "plt.ylabel('interior volume')"
   ]
  }
 ],
 "metadata": {
  "kernelspec": {
   "display_name": "Python 3.6.9 64-bit",
   "language": "python",
   "name": "python3"
  },
  "language_info": {
   "codemirror_mode": {
    "name": "ipython",
    "version": 3
   },
   "file_extension": ".py",
   "mimetype": "text/x-python",
   "name": "python",
   "nbconvert_exporter": "python",
   "pygments_lexer": "ipython3",
   "version": "3.6.9"
  },
  "orig_nbformat": 4,
  "vscode": {
   "interpreter": {
    "hash": "31f2aee4e71d21fbe5cf8b01ff0e069b9275f58929596ceb00d14d90e3e16cd6"
   }
  }
 },
 "nbformat": 4,
 "nbformat_minor": 2
}
