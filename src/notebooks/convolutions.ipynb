{
 "cells": [
  {
   "cell_type": "markdown",
   "metadata": {
    "tags": [
     "metadata"
    ]
   },
   "source": [
    "#+TITLE: Convolutions\n",
    "#+DESCRIPTION: Convolutions are mathematical operations that process input data using filters or kernels. The operation involves sliding the filter over the input data and performing an element-wise multiplication between the filter weights and the input window. These filters often learn to detect edges, shapes, or textures in image data in a translation invariant way.\n",
    "#+DATE: 2020-01-02\n",
    "#+HERO: /static/space-bg.png"
   ]
  },
  {
   "cell_type": "markdown",
   "metadata": {},
   "source": [
    "# Overview\n",
    "\n",
    "These models use a local connectivity pattern that convolves the inputs at each layer with a shared window of weights called a kernel or a filter. This connective structure enables networks to learn representations that are robust to translational shifts. Each convolutional layer consists of many kernels in which the outputs from this operation produce feature maps.\n",
    "\n",
    "g is the filter. f is the input.\n",
    "Spatial Convolution in 1 dimension.\n",
    "$$\n",
    "f[x] * g[x] = \\sum_k f[i] \\cdot g[x-i]\n",
    "$$\n",
    "\n",
    "In two dimensions,\n",
    "$$\n",
    "f[x, y] * g[x, y] = \\sum_i \\sum_j f[i, j] \\cdot g[x-i, y-j]\n",
    "$$\n"
   ]
  },
  {
   "cell_type": "code",
   "execution_count": 2,
   "metadata": {},
   "outputs": [],
   "source": [
    "%matplotlib inline\n",
    "\n",
    "import numpy as np\n",
    "import matplotlib.pyplot as plt\n",
    "import torchvision\n",
    "\n",
    "train_dataset = torchvision.datasets.MNIST('../data', train=True, download=False)\n",
    "test_dataset = torchvision.datasets.MNIST('../data', train=False, download=False)"
   ]
  },
  {
   "cell_type": "code",
   "execution_count": 3,
   "metadata": {},
   "outputs": [],
   "source": [
    "def draw_image(image, label):\n",
    "    plt.imshow(image, cmap=\"gray\")\n",
    "    plt.xticks([])\n",
    "    plt.yticks([])\n",
    "    plt.title(label)"
   ]
  },
  {
   "cell_type": "code",
   "execution_count": 8,
   "metadata": {},
   "outputs": [
    {
     "data": {
      "image/png": "[encoded data removed]",
      "text/plain": [
       "<Figure size 432x288 with 1 Axes>"
      ]
     },
     "metadata": {},
     "output_type": "display_data"
    }
   ],
   "source": [
    "x, y = train_dataset[0]\n",
    "x = np.array(x)\n",
    "draw_image(x, y)"
   ]
  },
  {
   "cell_type": "markdown",
   "metadata": {},
   "source": [
    "Now let's break the image up into patches."
   ]
  },
  {
   "cell_type": "code",
   "execution_count": 33,
   "metadata": {},
   "outputs": [
    {
     "data": {
      "image/png": "[encoded data removed]",
      "text/plain": [
       "<Figure size 504x504 with 16 Axes>"
      ]
     },
     "metadata": {},
     "output_type": "display_data"
    }
   ],
   "source": [
    "\n",
    "\n",
    "def draw_patches(x, y, filter_size):\n",
    "    patches = []\n",
    "\n",
    "    for i in range(0, x.shape[0], filter_size):\n",
    "        for j in range(0, x.shape[1], filter_size):\n",
    "            patches.append(x[i:i+filter_size, j:j+filter_size])\n",
    "\n",
    "    plt.figure(figsize=(7,7))\n",
    "    \n",
    "    block_size = int(np.sqrt(len(patches)))\n",
    "    \n",
    "    for i in range(len(patches)):\n",
    "        plt.subplot(block_size, block_size, i+1)\n",
    "        draw_image(patches[i], '')\n",
    "        \n",
    "draw_patches(x, y, 7)"
   ]
  },
  {
   "cell_type": "code",
   "execution_count": 34,
   "metadata": {},
   "outputs": [
    {
     "data": {
      "image/png": "[encoded data removed]",
      "text/plain": [
       "<Figure size 504x504 with 100 Axes>"
      ]
     },
     "metadata": {},
     "output_type": "display_data"
    }
   ],
   "source": [
    "draw_patches(x, y, 3)"
   ]
  },
  {
   "cell_type": "markdown",
   "metadata": {},
   "source": [
    "Since a 3x3 kernel doesn't evenly divide into a 28x28 image we have uneven patches in the last row and column.\n",
    "\n",
    "What if we want some overlap?"
   ]
  },
  {
   "cell_type": "code",
   "execution_count": 36,
   "metadata": {},
   "outputs": [
    {
     "data": {
      "image/png": "[encoded data removed]",
      "text/plain": [
       "<Figure size 504x504 with 196 Axes>"
      ]
     },
     "metadata": {},
     "output_type": "display_data"
    }
   ],
   "source": [
    "def draw_patches(x, y, filter_size, step_size):\n",
    "    patches = []\n",
    "\n",
    "    for i in range(0, x.shape[0], step_size):\n",
    "        for j in range(0, x.shape[1], step_size):\n",
    "            patches.append(x[i:i+filter_size, j:j+filter_size])\n",
    "\n",
    "    plt.figure(figsize=(7, 7))\n",
    "    \n",
    "    block_size = int(np.sqrt(len(patches)))\n",
    "    \n",
    "    for i in range(len(patches)):\n",
    "        plt.subplot(block_size, block_size, i+1)\n",
    "        draw_image(patches[i], '')\n",
    "        \n",
    "draw_patches(x, y, 7, 2)"
   ]
  }
 ],
 "metadata": {
  "@webio": {
   "lastCommId": null,
   "lastKernelId": null
  },
  "celltoolbar": "Tags",
  "kernelspec": {
   "display_name": "Python 3 (ipykernel)",
   "language": "python",
   "name": "python3"
  },
  "language_info": {
   "codemirror_mode": {
    "name": "ipython",
    "version": 3
   },
   "file_extension": ".py",
   "mimetype": "text/x-python",
   "name": "python",
   "nbconvert_exporter": "python",
   "pygments_lexer": "ipython3",
   "version": "3.10.11"
  },
  "vscode": {
   "interpreter": {
    "hash": "df0893f56f349688326838aaeea0de204df53a132722cbd565e54b24a8fec5f6"
   }
  }
 },
 "nbformat": 4,
 "nbformat_minor": 4
}
