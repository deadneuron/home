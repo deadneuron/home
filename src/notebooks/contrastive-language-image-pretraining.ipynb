{
 "cells": [
  {
   "cell_type": "markdown",
   "id": "13af2794-db7d-4814-b082-b1f64235234f",
   "metadata": {
    "editable": true,
    "slideshow": {
     "slide_type": ""
    },
    "tags": [
     "metadata"
    ]
   },
   "source": [
    "#+TITLE: Contrastive Language-Image Pretraining\n",
    "#+CATEGORIES: optimization\n",
    "#+TAGS: optimization laguage vision\n",
    "#+DESCRIPTION: Connecting text and images.\n",
    "#+AUTHORS: Alec Radford, Jong Wook Kim, Chris Hallacy, Aditya Ramesh, Gabriel Goh, Sandhini Agarwal, Girish Sastry, Amanda Askell, Pamela Mishkin, Jack Clark, Gretchen Krueger, Ilya Sutskever\n",
    "#+SOURCE: https://arxiv.org/abs/2103.00020\n",
    "#+DATE: 2024-04-10"
   ]
  },
  {
   "cell_type": "markdown",
   "id": "fd7ef1b2-ca8e-401b-8d8a-ace951c676e3",
   "metadata": {
    "editable": true,
    "slideshow": {
     "slide_type": ""
    },
    "tags": []
   },
   "source": [
    "# Contrastive Language-Image Pretraining\n",
    "\n",
    "![CLIP](/static/clip.png)\n",
    "\n",
    "Typical computer vision systems are trained to predict images from a fixed set of predetermined categories. CLIP is instead trained on a large dataset of images that are captioned with natural language taken from the internet. This is a naturally scalable approach where models can then learn a wide variety of visual concepts in images and associate them with their names.\n",
    "\n",
    "A contrastive learning objective involves training a model to identify correct pairing between (image, text) pairs in a batch. This multi-modal embedding space is learned by jointly training the image encoder and text encoder to maximize cosine similarity between correct pairs and minimize it for incorrect pairs. A symmetric cross entropy loss is optimized over these similarity scores."
   ]
  }
 ],
 "metadata": {
  "kernelspec": {
   "display_name": "Python 3 (ipykernel)",
   "language": "python",
   "name": "python3"
  },
  "language_info": {
   "codemirror_mode": {
    "name": "ipython",
    "version": 3
   },
   "file_extension": ".py",
   "mimetype": "text/x-python",
   "name": "python",
   "nbconvert_exporter": "python",
   "pygments_lexer": "ipython3",
   "version": "3.10.12"
  }
 },
 "nbformat": 4,
 "nbformat_minor": 5
}
