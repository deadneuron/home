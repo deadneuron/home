{
 "cells": [
  {
   "cell_type": "markdown",
   "id": "ef706c8c-b84a-422f-8fd8-d4c1ae53bbd5",
   "metadata": {
    "editable": true,
    "slideshow": {
     "slide_type": ""
    },
    "tags": [
     "metadata"
    ]
   },
   "source": [
    "#+TITLE: Lottery Ticket Hypothesis\n",
    "#+CATEGORIES: compression\n",
    "#+DESCRIPTION: Finding sparse subnetworks that train as well as dense networks from scratch.\n",
    "#+AUTHORS: Jonathan Frankle, Michael Carbin  \n",
    "#+SOURCE: https://arxiv.org/abs/1803.03635\n",
    "#+DATE: 2024-01-13\n",
    "#+HERO: /static/space-bg.png"
   ]
  },
  {
   "cell_type": "markdown",
   "id": "6179f44c-bbfb-4654-9e57-c064d5d079ab",
   "metadata": {
    "editable": true,
    "jp-MarkdownHeadingCollapsed": true,
    "slideshow": {
     "slide_type": ""
    },
    "tags": []
   },
   "source": [
    "# Lottery Ticket Hypothesis\n",
    "\n",
    "It's known that large numbers of parameters can be removed from fully trained networks with little discernible loss in predictive power after a few epochs of continued training. However, for a long time it has been difficult to successfully train these sparse subnetworks from scratch to an equivalent accuracy. We know that the smaller subnetwork can approximate the full size model, however the learning dynamics appear to benefit significantly from overparameterization.\n",
    "\n",
    "The Lottery Ticket Hypothesis introduced a methodology for finding sparse subnetworks that train as well as the dense model they reside in. \n",
    "\n",
    "1. Randomly initialize a neural network $f(x; \\theta_0)$ (where $\\theta_0 ∼ \\mathcal{D}_{\\theta}$).\n",
    "2. Train the network for $j$ iterations, arriving at parameters $\\theta_j$.\n",
    "3. Prune $p\\%$ of the parameters in $\\theta_j$, creating a mask $m$.\n",
    "4. Reset the remaining parameters to their values in $\\theta_0$, creating the winning ticket $f(x; m \\circ \\theta_0$).\n",
    "\n",
    "Effective winning tickets are found with Iterative Magnitude Pruning, where this algorithm is repeated several times such that a small percentage of the weights with the smallest magnitude are pruned for each iteration until reaching the desired target sparsity."
   ]
  }
 ],
 "metadata": {
  "kernelspec": {
   "display_name": "Python 3 (ipykernel)",
   "language": "python",
   "name": "python3"
  },
  "language_info": {
   "codemirror_mode": {
    "name": "ipython",
    "version": 3
   },
   "file_extension": ".py",
   "mimetype": "text/x-python",
   "name": "python",
   "nbconvert_exporter": "python",
   "pygments_lexer": "ipython3",
   "version": "3.10.12"
  }
 },
 "nbformat": 4,
 "nbformat_minor": 5
}
