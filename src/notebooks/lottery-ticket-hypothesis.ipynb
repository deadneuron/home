{
 "cells": [
  {
   "cell_type": "markdown",
   "id": "ef706c8c-b84a-422f-8fd8-d4c1ae53bbd5",
   "metadata": {
    "editable": true,
    "slideshow": {
     "slide_type": ""
    },
    "tags": [
     "metadata"
    ]
   },
   "source": [
    "#+TITLE: Lottery Ticket Hypothesis\n",
    "#+CATEGORIES: compression\n",
    "#+DESCRIPTION: Finding sparse subnetworks that train as well as dense networks from scratch.\n",
    "#+AUTHORS: Jonathan Frankle, Michael Carbin  \n",
    "#+SOURCE: https://arxiv.org/abs/1803.03635\n",
    "#+DATE: 2024-01-13\n",
    "#+HERO: /static/space-bg.png"
   ]
  },
  {
   "cell_type": "markdown",
   "id": "6179f44c-bbfb-4654-9e57-c064d5d079ab",
   "metadata": {
    "editable": true,
    "slideshow": {
     "slide_type": ""
    },
    "tags": []
   },
   "source": [
    "# Lottery Ticket Hypothesis\n",
    "\n",
    "1. Randomly initialize a neural network f (x; θ0) (where θ0 ∼ Dθ ).\n",
    "2. Train the network for j iterations, arriving at parameters θj .\n",
    "3. Prune p% of the parameters in θj , creating a mask m.\n",
    "4. Reset the remaining parameters to their values in θ0, creating the winning ticket f (x; m θ0)."
   ]
  }
 ],
 "metadata": {
  "kernelspec": {
   "display_name": "Python 3 (ipykernel)",
   "language": "python",
   "name": "python3"
  },
  "language_info": {
   "codemirror_mode": {
    "name": "ipython",
    "version": 3
   },
   "file_extension": ".py",
   "mimetype": "text/x-python",
   "name": "python",
   "nbconvert_exporter": "python",
   "pygments_lexer": "ipython3",
   "version": "3.10.12"
  }
 },
 "nbformat": 4,
 "nbformat_minor": 5
}
